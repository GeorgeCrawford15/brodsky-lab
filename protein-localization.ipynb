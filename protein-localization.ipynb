{
 "cells": [
  {
   "cell_type": "markdown",
   "id": "cacc5768-9da6-428c-8320-04abb6c7d3f3",
   "metadata": {},
   "source": [
    "# Napari Visualization Pipeline"
   ]
  },
  {
   "cell_type": "code",
   "execution_count": 92,
   "id": "5b57a693-1430-4abd-90b6-0c1be43622f7",
   "metadata": {},
   "outputs": [
    {
     "data": {
      "text/plain": [
       "<Image layer 'nuclei' at 0x344100a10>"
      ]
     },
     "execution_count": 92,
     "metadata": {},
     "output_type": "execute_result"
    }
   ],
   "source": [
    "import napari\n",
    "import numpy as np\n",
    "from skimage import morphology, restoration, filters, measure\n",
    "from tifffile import imread\n",
    "\n",
    "img = imread('cell-data/parent_control_z3_ch00.tif')\n",
    "\n",
    "viewer = napari.Viewer()\n",
    "viewer.add_image(img, name='nuclei')"
   ]
  },
  {
   "cell_type": "markdown",
   "id": "043c4d73-9c47-4603-8d23-a4534e9e9e1f",
   "metadata": {},
   "source": [
    "### Erosion"
   ]
  },
  {
   "cell_type": "code",
   "execution_count": 93,
   "id": "a6cdca46-902b-41ff-be77-d5fca1429e7e",
   "metadata": {},
   "outputs": [
    {
     "data": {
      "text/plain": [
       "<Image layer 'eroded' at 0x343a3a3f0>"
      ]
     },
     "execution_count": 93,
     "metadata": {},
     "output_type": "execute_result"
    }
   ],
   "source": [
    "from skimage.morphology import erosion, disk\n",
    "\n",
    "eroded = erosion(img, disk(1)) # Change to 2 or 3 for more intense erosion\n",
    "\n",
    "viewer.add_image(eroded, name='eroded')"
   ]
  },
  {
   "cell_type": "markdown",
   "id": "95eb1c1a-a3c5-4c02-8913-fc02f8a9b1ee",
   "metadata": {},
   "source": [
    "### Estimate noise and denoise via non-local means"
   ]
  },
  {
   "cell_type": "code",
   "execution_count": 94,
   "id": "dded80b3-8050-4dd0-869e-7026b1dcb7d6",
   "metadata": {},
   "outputs": [
    {
     "data": {
      "text/plain": [
       "<Image layer 'denoised' at 0x344103b30>"
      ]
     },
     "execution_count": 94,
     "metadata": {},
     "output_type": "execute_result"
    }
   ],
   "source": [
    "from skimage.restoration import denoise_nl_means, estimate_sigma\n",
    "from skimage.util import img_as_float\n",
    "\n",
    "img_float = img_as_float(eroded)\n",
    "\n",
    "sigma_est = np.mean(estimate_sigma(img_float, channel_axis=None)) # Estimated noise standard deviation. Lower SD means lower estimated noise.\n",
    "\n",
    "denoised = denoise_nl_means(\n",
    "    img_float,\n",
    "    h=0.8 * sigma_est, # h is filter strength. This line sets filter strength to 80% of estimated noise level, but tweak this number if necessary.\n",
    "    patch_size=5, # Larger value = captures more context; better denoising but loses fine detail (probably doesn't matter for this use).\n",
    "    patch_distance=6, # Larger value = searches wider area, so better denoising but slower processing.\n",
    "    fast_mode=True # Make False for more accurate denoising (but it'll be a bit slower).\n",
    ")\n",
    "\n",
    "viewer.add_image(denoised, name='denoised')"
   ]
  },
  {
   "cell_type": "markdown",
   "id": "081b3483-cfe4-415b-a39b-045debe10eb6",
   "metadata": {},
   "source": [
    "### Create nucleus mask"
   ]
  },
  {
   "cell_type": "code",
   "execution_count": 95,
   "id": "1b9d73dc-aa1d-43ae-ab59-475f9864e6cb",
   "metadata": {},
   "outputs": [
    {
     "data": {
      "text/plain": [
       "<Labels layer 'thresholded' at 0x3438d3da0>"
      ]
     },
     "execution_count": 95,
     "metadata": {},
     "output_type": "execute_result"
    }
   ],
   "source": [
    "threshold = 0.1 # Play around with the threshold to find the optimal value.\n",
    "thresholded = denoised > threshold # For each pixel --> if it's brighter than the threshold value, count it as foreground (part of a nucleus).\n",
    "# The line above creates a boolean array.\n",
    "\n",
    "viewer.add_labels(thresholded.astype(int), name='thresholded') # This turns the boolean array into binaries."
   ]
  },
  {
   "cell_type": "markdown",
   "id": "8b688059-3e2b-42bf-83ab-326bf07d8f72",
   "metadata": {},
   "source": [
    "### Fill any gaps in the mask regions"
   ]
  },
  {
   "cell_type": "code",
   "execution_count": 96,
   "id": "8cfa7f16-23f8-4f0a-8717-220d15e2f9be",
   "metadata": {},
   "outputs": [
    {
     "data": {
      "text/plain": [
       "<Labels layer 'hold-filled-mask' at 0x31521ca70>"
      ]
     },
     "execution_count": 96,
     "metadata": {},
     "output_type": "execute_result"
    }
   ],
   "source": [
    "from scipy.ndimage import binary_fill_holes\n",
    "import numpy as np\n",
    "\n",
    "# Assuming 'mask' is a binary numpy array where nuclei are True (1) and background is False (0)\n",
    "filled_mask = binary_fill_holes(thresholded)\n",
    "\n",
    "# Convert back to int if needed\n",
    "filled_mask = filled_mask.astype(np.uint8)\n",
    "\n",
    "viewer.add_labels(filled_mask, name='hold-filled-mask')"
   ]
  },
  {
   "cell_type": "markdown",
   "id": "cd4668df-d460-4357-b326-841172c355a4",
   "metadata": {},
   "source": [
    "### Separate mask into distinct regions with integer labels"
   ]
  },
  {
   "cell_type": "code",
   "execution_count": 97,
   "id": "f5bc475f-06ed-4a88-ac62-b21337a97b30",
   "metadata": {},
   "outputs": [
    {
     "data": {
      "text/plain": [
       "<Labels layer 'nuclei_mask' at 0x376b52120>"
      ]
     },
     "execution_count": 97,
     "metadata": {},
     "output_type": "execute_result"
    }
   ],
   "source": [
    "from skimage.measure import label\n",
    "\n",
    "labeled_mask = label(filled_mask) # Label connected regions of the mask\n",
    "\n",
    "viewer.add_labels(labeled_mask, name='nuclei_mask')"
   ]
  },
  {
   "cell_type": "markdown",
   "id": "4c5cbce2-725d-4a75-bfae-3dad0563eccf",
   "metadata": {},
   "source": [
    "### Clean mask by removing nucleus regions that are cut off by the image and by removing isolated pixels that remain after erosion and denoising"
   ]
  },
  {
   "cell_type": "code",
   "execution_count": 98,
   "id": "95aa8466-5a94-4cd2-b891-d1f603fe90ab",
   "metadata": {},
   "outputs": [
    {
     "data": {
      "text/plain": [
       "<Labels layer 'cleaned_mask' at 0x37f6c8ef0>"
      ]
     },
     "execution_count": 98,
     "metadata": {},
     "output_type": "execute_result"
    }
   ],
   "source": [
    "from skimage.measure import regionprops\n",
    "import numpy as np\n",
    "\n",
    "image_height, image_width = labeled_mask.shape\n",
    "cleaned_mask = np.zeros_like(labeled_mask)\n",
    "\n",
    "for region in regionprops(labeled_mask):\n",
    "    min_row, min_column, max_row, max_column = region.bbox\n",
    "\n",
    "    # This checks for labeled regions at the edges of the image\n",
    "    touches_edge = (min_row == 0 or min_column == 0 or max_row == image_height or max_column == image_width)\n",
    "    \n",
    "    if not touches_edge and region.area >= 500:\n",
    "        cleaned_mask[labeled_mask == region.label] = region.label \n",
    "        # This line sets all pixels in cleaned_mask at positions where the boolean mask is True to the integer value region.label.\n",
    "        # Each specific integer value is a specific label/color.\n",
    "        \n",
    "viewer.add_labels(cleaned_mask, name='cleaned_mask')"
   ]
  },
  {
   "cell_type": "markdown",
   "id": "da032175-3e20-4727-99de-9f1ad03b693c",
   "metadata": {},
   "source": [
    "### Determine the image's microns per pixel ratio and create the first donut mask"
   ]
  },
  {
   "cell_type": "code",
   "execution_count": 99,
   "id": "d6185e55-d7ff-4c00-b634-aa245232c1e8",
   "metadata": {},
   "outputs": [
    {
     "name": "stdout",
     "output_type": "stream",
     "text": [
      "X pixels/µm: 5.5081. Compare these values to the metadata in Fiji ImageJ.\n",
      "Y pixels/µm: 5.5081. Compare these values to the metadata in Fiji ImageJ.\n"
     ]
    },
    {
     "data": {
      "text/plain": [
       "<Labels layer 'donut' at 0x343728bf0>"
      ]
     },
     "execution_count": 99,
     "metadata": {},
     "output_type": "execute_result"
    }
   ],
   "source": [
    "from skimage.morphology import dilation, disk\n",
    "from skimage.segmentation import find_boundaries\n",
    "import tifffile\n",
    "\n",
    "with tifffile.TiffFile('cell-data/parent_control_z3_ch00.tif') as tif:\n",
    "    page = tif.pages[0]\n",
    "    tags = page.tags\n",
    "\n",
    "    x_res = tags['XResolution'].value  # (num, denom)\n",
    "    y_res = tags['YResolution'].value\n",
    "    res_unit = tags['ResolutionUnit'].value  # 3 = centimeters\n",
    "\n",
    "    # Convert to pixels per micrometer\n",
    "    if res_unit == 3:  # Centimeters\n",
    "        x_ppcm = x_res[0] / x_res[1]\n",
    "        y_ppcm = y_res[0] / y_res[1]\n",
    "        x_ppum = x_ppcm / 10000  # cm → µm\n",
    "        y_ppum = y_ppcm / 10000\n",
    "        print(f'X pixels/µm: {x_ppum:.4f}. Compare these values to the metadata in Fiji ImageJ.')\n",
    "        print(f'Y pixels/µm: {y_ppum:.4f}. Compare these values to the metadata in Fiji ImageJ.')\n",
    "    else:\n",
    "        print('Unsupported resolution unit:', res_unit)\n",
    "\n",
    "microns_per_pixel = (1 / x_ppum + 1 / y_ppum) / 2\n",
    "desired_donut_width_um = 2\n",
    "n_pixels = int(desired_donut_width_um / microns_per_pixel)\n",
    "\n",
    "outer_mask = dilation(cleaned_mask, disk(n_pixels))\n",
    "\n",
    "donut_mask = outer_mask - cleaned_mask\n",
    "donut_mask[donut_mask < 0] = 0  # Just in case\n",
    "\n",
    "donut_mask = donut_mask.astype(np.uint8)\n",
    "\n",
    "viewer.add_labels(donut_mask, name='donut')"
   ]
  },
  {
   "cell_type": "markdown",
   "id": "d7afa02e-f419-4d6f-a44f-0a83f05c10a1",
   "metadata": {},
   "source": [
    "## Notes:\n",
    "- Make outer donut\n",
    "- Delete masks whose donuts overlap "
   ]
  }
 ],
 "metadata": {
  "kernelspec": {
   "display_name": "Python 3 (ipykernel)",
   "language": "python",
   "name": "python3"
  },
  "language_info": {
   "codemirror_mode": {
    "name": "ipython",
    "version": 3
   },
   "file_extension": ".py",
   "mimetype": "text/x-python",
   "name": "python",
   "nbconvert_exporter": "python",
   "pygments_lexer": "ipython3",
   "version": "3.12.10"
  }
 },
 "nbformat": 4,
 "nbformat_minor": 5
}
